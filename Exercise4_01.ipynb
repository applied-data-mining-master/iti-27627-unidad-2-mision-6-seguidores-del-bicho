{
 "cells": [
  {
   "cell_type": "markdown",
   "metadata": {},
   "source": [
    "# Exercise 4.01: Calculating Entropy\n",
    "\n",
    "In this exercise, we will calculate the entropy of the features in the dataset in Figure 4.6:\n",
    "\n",
    "![Figure 4.6](img/fig4_06.jpg)\n",
    "\n",
    "We will calculate entropy for the `Employed`, `Income`, `LoanType`, and `LoanAmount` features."
   ]
  },
  {
   "cell_type": "markdown",
   "metadata": {},
   "source": [
    "1.- Import the `numpy` package as `np"
   ]
  },
  {
   "cell_type": "code",
   "execution_count": 1,
   "metadata": {},
   "outputs": [],
   "source": [
    "import numpy as np"
   ]
  },
  {
   "cell_type": "markdown",
   "metadata": {},
   "source": [
    "2.- Define a function called `entropy()` that receives an array of probabilities and then returns the calculated entropy value."
   ]
  },
  {
   "cell_type": "code",
   "execution_count": 2,
   "metadata": {},
   "outputs": [],
   "source": [
    "def entropy(probabilidades):\n",
    "    menorProbabilidad = [-x for x in probabilidades]\n",
    "    mayorProbabilidad = [x for x in map(np.log2, probabilidades)]\n",
    "    return np.dot(menorProbabilidad, mayorProbabilidad)"
   ]
  },
  {
   "cell_type": "markdown",
   "metadata": {},
   "source": [
    "Next, we will calculate the entropy of the `Employed` column. This column contains only two possible values: `True` or `False`. The `True` value appeared four times out of seven rows. Similarly, calculate the  probability of the false value where it appeared three times in this dataset."
   ]
  },
  {
   "cell_type": "markdown",
   "metadata": {},
   "source": [
    "3.- Use the `entropy()` function to calculate the entropy of the `Employed`\n",
    "\n",
    "Output:\n",
    "\n",
    "`0.9852281360342515`"
   ]
  },
  {
   "cell_type": "code",
   "execution_count": 3,
   "metadata": {},
   "outputs": [
    {
     "data": {
      "text/plain": [
       "0.9852281360342515"
      ]
     },
     "execution_count": 3,
     "metadata": {},
     "output_type": "execute_result"
    }
   ],
   "source": [
    "H_employed = entropy([4/7, 3/7])\n",
    "H_employed"
   ]
  },
  {
   "cell_type": "markdown",
   "metadata": {},
   "source": [
    "This value is quite close to zero, which means the groups are quite homogenous."
   ]
  },
  {
   "cell_type": "markdown",
   "metadata": {},
   "source": [
    "4.- Use the `entropy()` function to calculate the entropy of the `Income` column with its corresponding list of probabilities.\n",
    "\n",
    "Output:\n",
    "\n",
    "`2.2359263506290326`"
   ]
  },
  {
   "cell_type": "code",
   "execution_count": 4,
   "metadata": {},
   "outputs": [
    {
     "data": {
      "text/plain": [
       "2.2359263506290326"
      ]
     },
     "execution_count": 4,
     "metadata": {},
     "output_type": "execute_result"
    }
   ],
   "source": [
    "H_income = entropy([1/7, 2/7, 1/7, 2/7, 1/7])\n",
    "H_income"
   ]
  },
  {
   "cell_type": "markdown",
   "metadata": {},
   "source": [
    "Compared to the `Employed` column, the entropy for Income is higher. This means the probabilities of this column are more spread."
   ]
  },
  {
   "cell_type": "markdown",
   "metadata": {},
   "source": [
    "5.- Use the `entropy` function to calculate the entropy of the `LoanType` column with its corresponding list of probabilities\n",
    "\n",
    "`1.5566567074628228`"
   ]
  },
  {
   "cell_type": "code",
   "execution_count": 5,
   "metadata": {},
   "outputs": [
    {
     "data": {
      "text/plain": [
       "1.556656707462823"
      ]
     },
     "execution_count": 5,
     "metadata": {},
     "output_type": "execute_result"
    }
   ],
   "source": [
    "H_loanType = entropy([3/7, 2/7, 2/7])\n",
    "H_loanType"
   ]
  },
  {
   "cell_type": "markdown",
   "metadata": {},
   "source": [
    "This value is higher than 0, so the probabilities for this column are quite spread."
   ]
  },
  {
   "cell_type": "markdown",
   "metadata": {},
   "source": [
    "6.- Let's use the `entropy` function to calculate the entropy of the `LoanAmount` column with its corresponding list of probabilities\n",
    "\n",
    "Output:\n",
    "\n",
    "`2.128085278891394`"
   ]
  },
  {
   "cell_type": "code",
   "execution_count": 6,
   "metadata": {},
   "outputs": [
    {
     "data": {
      "text/plain": [
       "2.1280852788913944"
      ]
     },
     "execution_count": 6,
     "metadata": {},
     "output_type": "execute_result"
    }
   ],
   "source": [
    "H_LoanAmount = entropy([1/7, 1/7, 3/7, 1/7, 1/7])\n",
    "H_LoanAmount"
   ]
  },
  {
   "cell_type": "markdown",
   "metadata": {},
   "source": [
    "The entropy for LoanAmount is quite high, so its values are quite random."
   ]
  },
  {
   "cell_type": "markdown",
   "metadata": {},
   "source": [
    "Here, you can see that the `Employed` column has the lowest entropy among the four different columns because it has the least variation in terms of values."
   ]
  }
 ],
 "metadata": {
  "kernelspec": {
   "display_name": "Python 3",
   "language": "python",
   "name": "python3"
  },
  "language_info": {
   "codemirror_mode": {
    "name": "ipython",
    "version": 3
   },
   "file_extension": ".py",
   "mimetype": "text/x-python",
   "name": "python",
   "nbconvert_exporter": "python",
   "pygments_lexer": "ipython3",
   "version": "3.8.5"
  }
 },
 "nbformat": 4,
 "nbformat_minor": 4
}
